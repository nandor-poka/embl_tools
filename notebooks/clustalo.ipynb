{
 "cells": [
  {
   "cell_type": "code",
   "execution_count": 1,
   "metadata": {},
   "outputs": [
    {
     "data": {
      "application/vnd.jupyter.widget-view+json": {
       "model_id": "f2918d4280664fd683bd770b181f9b93",
       "version_major": 2,
       "version_minor": 0
      },
      "text/plain": [
       "AppLayout(children=(Label(value='EMBL-ToolsClustalO webservice', layout=Layout(grid_area='header')), HBox(chil…"
      ]
     },
     "metadata": {},
     "output_type": "display_data"
    },
    {
     "data": {
      "application/vnd.jupyter.widget-view+json": {
       "model_id": "b5f10a09cfe14027be46a74ddf4da6a9",
       "version_major": 2,
       "version_minor": 0
      },
      "text/plain": [
       "Output(layout=Layout(border='1px solid black'))"
      ]
     },
     "metadata": {},
     "output_type": "display_data"
    }
   ],
   "source": [
    "import core.clustalO_ui"
   ]
  }
 ],
 "metadata": {
  "kernelspec": {
   "display_name": "Python 3",
   "language": "python",
   "name": "python3"
  },
  "language_info": {
   "codemirror_mode": {
    "name": "ipython",
    "version": 3
   },
   "file_extension": ".py",
   "mimetype": "text/x-python",
   "name": "python",
   "nbconvert_exporter": "python",
   "pygments_lexer": "ipython3",
   "version": "3.7.4"
  },
  "widgets": {
   "application/vnd.jupyter.widget-state+json": {
    "state": {
     "053c84a3738345f8b5b36ccc90141403": {
      "model_module": "@jupyter-widgets/base",
      "model_module_version": "1.2.0",
      "model_name": "LayoutModel",
      "state": {}
     },
     "105081d719af4180be555c1412c2c185": {
      "model_module": "@jupyter-widgets/base",
      "model_module_version": "1.2.0",
      "model_name": "LayoutModel",
      "state": {}
     },
     "16dfc5dde53e4c05a20dee69504bbf0b": {
      "model_module": "@jupyter-widgets/controls",
      "model_module_version": "1.5.0",
      "model_name": "DropdownModel",
      "state": {
       "_options_labels": [
        "DNA",
        "RNA",
        "Protein"
       ],
       "description": "Sequence type:",
       "index": 0,
       "layout": "IPY_MODEL_ab22c9f8dd204a5db02aede4a60ef0f1",
       "style": "IPY_MODEL_335ab6f481fe40e8a027bb6b7287602c"
      }
     },
     "1c22e9e692324517aac9cf7e80c6afea": {
      "model_module": "@jupyter-widgets/controls",
      "model_module_version": "1.5.0",
      "model_name": "TextModel",
      "state": {
       "description": "sequence file path",
       "layout": "IPY_MODEL_e83ad9f8f0834bd4b24d210a316043b0",
       "style": "IPY_MODEL_65f52f845675463faf64426d0359611f",
       "value": "Trainings/coronaviruses-short.fasta"
      }
     },
     "2662be010f304a41ac3c9dcfba24cd2d": {
      "model_module": "@jupyter-widgets/controls",
      "model_module_version": "1.5.0",
      "model_name": "ButtonStyleModel",
      "state": {}
     },
     "2a6aec1c276d4d6b9fb26d904abac489": {
      "model_module": "@jupyter-widgets/controls",
      "model_module_version": "1.5.0",
      "model_name": "TextModel",
      "state": {
       "description": "Email (mandatory):",
       "layout": "IPY_MODEL_105081d719af4180be555c1412c2c185",
       "placeholder": "email address (mandatory)",
       "style": "IPY_MODEL_df1922ae43fe4a88b5b10f8d49db91d2",
       "value": "nandor.poka@gmail.com"
      }
     },
     "335ab6f481fe40e8a027bb6b7287602c": {
      "model_module": "@jupyter-widgets/controls",
      "model_module_version": "1.5.0",
      "model_name": "DescriptionStyleModel",
      "state": {
       "description_width": ""
      }
     },
     "53a287259ad34956aee6c522abf4e8e2": {
      "model_module": "@jupyter-widgets/base",
      "model_module_version": "1.2.0",
      "model_name": "LayoutModel",
      "state": {
       "border": "1px solid black"
      }
     },
     "55bc595455c44233a73ecaed97477ff3": {
      "model_module": "@jupyter-widgets/controls",
      "model_module_version": "1.5.0",
      "model_name": "TextareaModel",
      "state": {
       "description": "Sequence(s):",
       "layout": "IPY_MODEL_a73ed75f755c4aed854fb56f63312492",
       "placeholder": "Paste sequences here",
       "style": "IPY_MODEL_b4237a77f31b422db65aea642ca76371"
      }
     },
     "65f52f845675463faf64426d0359611f": {
      "model_module": "@jupyter-widgets/controls",
      "model_module_version": "1.5.0",
      "model_name": "DescriptionStyleModel",
      "state": {
       "description_width": ""
      }
     },
     "9b441ae81f2442fda52156ff48aef044": {
      "model_module": "@jupyter-widgets/output",
      "model_module_version": "1.0.0",
      "model_name": "OutputModel",
      "state": {
       "layout": "IPY_MODEL_53a287259ad34956aee6c522abf4e8e2",
       "outputs": [
        {
         "name": "stdout",
         "output_type": "stream",
         "text": "Jobid: clustalo-R20200402-141235-0098-80578261-p2m\nFINISHED\nFINISHED\nCreating result file: clustalo-R20200402-141235-0098-80578261-p2m.out.txt\nCreating result file: clustalo-R20200402-141235-0098-80578261-p2m.sequence.txt\nCreating result file: clustalo-R20200402-141235-0098-80578261-p2m.aln-clustal_num.clustal_num\nCreating result file: clustalo-R20200402-141235-0098-80578261-p2m.tree.dnd\nCreating result file: clustalo-R20200402-141235-0098-80578261-p2m.phylotree.ph\nCreating result file: clustalo-R20200402-141235-0098-80578261-p2m.pim.pim\n\n"
        }
       ]
      }
     },
     "a73ed75f755c4aed854fb56f63312492": {
      "model_module": "@jupyter-widgets/base",
      "model_module_version": "1.2.0",
      "model_name": "LayoutModel",
      "state": {
       "height": "250px",
       "width": "75%"
      }
     },
     "ab22c9f8dd204a5db02aede4a60ef0f1": {
      "model_module": "@jupyter-widgets/base",
      "model_module_version": "1.2.0",
      "model_name": "LayoutModel",
      "state": {}
     },
     "b4237a77f31b422db65aea642ca76371": {
      "model_module": "@jupyter-widgets/controls",
      "model_module_version": "1.5.0",
      "model_name": "DescriptionStyleModel",
      "state": {
       "description_width": ""
      }
     },
     "c958cb23f66a40b2b444dea81b2dce37": {
      "model_module": "@jupyter-widgets/controls",
      "model_module_version": "1.5.0",
      "model_name": "ButtonModel",
      "state": {
       "description": "Submit",
       "icon": "check",
       "layout": "IPY_MODEL_053c84a3738345f8b5b36ccc90141403",
       "style": "IPY_MODEL_2662be010f304a41ac3c9dcfba24cd2d",
       "tooltip": "Submit job"
      }
     },
     "df1922ae43fe4a88b5b10f8d49db91d2": {
      "model_module": "@jupyter-widgets/controls",
      "model_module_version": "1.5.0",
      "model_name": "DescriptionStyleModel",
      "state": {
       "description_width": ""
      }
     },
     "e83ad9f8f0834bd4b24d210a316043b0": {
      "model_module": "@jupyter-widgets/base",
      "model_module_version": "1.2.0",
      "model_name": "LayoutModel",
      "state": {}
     }
    },
    "version_major": 2,
    "version_minor": 0
   }
  }
 },
 "nbformat": 4,
 "nbformat_minor": 4
}
